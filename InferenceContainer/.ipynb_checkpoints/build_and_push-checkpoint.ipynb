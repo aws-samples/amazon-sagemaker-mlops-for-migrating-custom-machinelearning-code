{
 "cells": [
  {
   "cell_type": "code",
   "execution_count": null,
   "metadata": {
    "tags": []
   },
   "outputs": [],
   "source": [
    "#Install sagemaker_studio_image_build utility\n",
    "import sys\n",
    "\n",
    "!{sys.executable} -m pip install sagemaker_studio_image_build"
   ]
  },
  {
   "cell_type": "code",
   "execution_count": null,
   "metadata": {
    "tags": []
   },
   "outputs": [],
   "source": [
    "!cat Dockerfile"
   ]
  },
  {
   "cell_type": "code",
   "execution_count": null,
   "metadata": {
    "tags": []
   },
   "outputs": [],
   "source": [
    "%%sh\n",
    "\n",
    "sm-docker build . --repository bc-test-fcst:3.0"
   ]
  },
  {
   "cell_type": "code",
   "execution_count": null,
   "metadata": {
    "tags": []
   },
   "outputs": [],
   "source": [
    "## Create processing job using the customer container built in the above cell\n",
    "import os\n",
    "import json\n",
    "import boto3\n",
    "import time\n",
    "from sagemaker import get_execution_role\n",
    "\n",
    "sm = boto3.client('sagemaker')\n",
    "\n",
    "# Get parameters\n",
    "input_uri = \"s3://sagemaker-us-east-1-674880395054/legacycode/data/input/\"\n",
    "ouput_uri = \"s3://sagemaker-us-east-1-674880395054/legacycode/data/output/\"\n",
    "image_uri = \"674880395054.dkr.ecr.us-east-1.amazonaws.com/bc-test-fcst:3.0\"\n",
    "role = get_execution_role()\n",
    "instance_type = \"ml.m5.xlarge\"\n",
    "volume_size = 20\n",
    "max_runtime = 3600  # Default: 1h\n",
    "entrypoint = \"/opt/ml/code/predict.py\"\n",
    "\n",
    "timestamp = time.strftime('%Y%m%d-%H%M%S')\n",
    "job_name = f'sm-job-{timestamp}' \n",
    "\n",
    "# Define inputs/outputs\n",
    "\n",
    "create_processing_params = {\n",
    "    \"ProcessingInputs\": [\n",
    "            {\n",
    "                'InputName': 'input_data',\n",
    "                'S3Input': {\n",
    "                    'S3Uri': input_uri,\n",
    "                    'LocalPath': '/opt/ml/processing/input',\n",
    "                    'S3DataType': 'S3Prefix',\n",
    "                    'S3InputMode': 'File'\n",
    "                }\n",
    "            }\n",
    "    ],\n",
    "    \"ProcessingOutputConfig\": {\n",
    "        'Outputs': [\n",
    "            {\n",
    "                'OutputName': 'output_data',\n",
    "                'S3Output': {\n",
    "                    'S3Uri': ouput_uri,\n",
    "                    'LocalPath': '/opt/ml/processing/output',\n",
    "                    'S3UploadMode': 'EndOfJob'\n",
    "                }\n",
    "            }\n",
    "        ]\n",
    "    },\n",
    "    \"ProcessingJobName\": job_name,\n",
    "    \"ProcessingResources\": {\n",
    "        'ClusterConfig': {\n",
    "            'InstanceCount': 1,\n",
    "            'InstanceType': instance_type,\n",
    "            'VolumeSizeInGB': volume_size\n",
    "        }\n",
    "    },\n",
    "    \"StoppingCondition\": {\n",
    "        'MaxRuntimeInSeconds': max_runtime\n",
    "    },\n",
    "    \"AppSpecification\": {\n",
    "        'ImageUri': image_uri,\n",
    "        'ContainerEntrypoint': ['python', entrypoint]\n",
    "    },\n",
    "    \"RoleArn\": role\n",
    "}\n",
    "# Create processing job and return job ARN\n",
    "sm.create_processing_job(**create_processing_params)"
   ]
  },
  {
   "cell_type": "code",
   "execution_count": null,
   "metadata": {
    "tags": []
   },
   "outputs": [],
   "source": [
    "job_name = 'sm-job-20230110-011002'\n",
    "\n",
    "response = sm.describe_processing_job(\n",
    "    ProcessingJobName=job_name\n",
    ")\n",
    "job_status = response[\"ProcessingJobStatus\"]\n",
    "\n",
    "print(job_status)"
   ]
  },
  {
   "cell_type": "code",
   "execution_count": null,
   "metadata": {
    "tags": []
   },
   "outputs": [],
   "source": [
    "from sagemaker import image_uris\n",
    "image_uris.retrieve(framework='sklearn',region='us-east-1',version='0.23-1',image_scope='training')"
   ]
  },
  {
   "cell_type": "code",
   "execution_count": null,
   "metadata": {
    "tags": []
   },
   "outputs": [],
   "source": [
    "## Run as Training job and pass the script during run time using scikit-learn image\n",
    "import os\n",
    "import json\n",
    "import boto3\n",
    "import time\n",
    "from sagemaker import get_execution_role\n",
    "\n",
    "\n",
    "sm = boto3.client('sagemaker')\n",
    "\n",
    "# Get parameters\n",
    "input_uri = \"s3://sagemaker-us-east-1-674880395054/legacycode/data/input/\"\n",
    "ouput_uri = \"s3://sagemaker-us-east-1-674880395054/legacycode/data/output/\"\n",
    "code_uri = \"s3://sagemaker-us-east-1-674880395054/legacycode/code/\"\n",
    "image_uri = \"683313688378.dkr.ecr.us-east-1.amazonaws.com/sagemaker-scikit-learn:0.23-1-cpu-py3\"\n",
    "role = get_execution_role()\n",
    "instance_type = \"ml.m5.xlarge\"\n",
    "volume_size = 20\n",
    "max_runtime = 3600  # Default: 1h\n",
    "entrypoint = \"/opt/ml/input/data/custom_code/preprocess.py\"\n",
    "\n",
    "timestamp = time.strftime('%Y%m%d-%H%M%S')\n",
    "job_name = f'sm-tr-job-{timestamp}' \n",
    "\n",
    "print(\"Training job\", job_name)\n",
    "\n",
    "create_training_params = {\n",
    "    \"AlgorithmSpecification\": {\"TrainingImage\": image_uri, \n",
    "                               \"TrainingInputMode\": \"File\",\n",
    "                               \"ContainerEntrypoint\": [\"python\"],\n",
    "                               \"ContainerArguments\": [\"/opt/ml/input/data/custom_code/preprocess.py\"]\n",
    "                              },\n",
    "    \"RoleArn\": role,\n",
    "    \"OutputDataConfig\": {\"S3OutputPath\": ouput_uri},\n",
    "    \"ResourceConfig\": {\"InstanceCount\": 1, \"InstanceType\": instance_type, \"VolumeSizeInGB\": 20},\n",
    "    \"TrainingJobName\": job_name,\n",
    "    \"StoppingCondition\": {\"MaxRuntimeInSeconds\": 60 * 60},\n",
    "    \"InputDataConfig\": [\n",
    "        {\n",
    "            \"ChannelName\": \"custom_code\",\n",
    "            \"DataSource\": {\n",
    "                \"S3DataSource\": {\n",
    "                    \"S3DataType\": \"S3Prefix\",\n",
    "                    \"S3Uri\": code_uri,\n",
    "                    \"S3DataDistributionType\": \"FullyReplicated\",\n",
    "                }\n",
    "            },\n",
    "            \"CompressionType\": \"None\",\n",
    "            \"RecordWrapperType\": \"None\",\n",
    "        },\n",
    "        {\n",
    "            \"ChannelName\": \"source\",\n",
    "            \"DataSource\": {\n",
    "                \"S3DataSource\": {\n",
    "                    \"S3DataType\": \"S3Prefix\",\n",
    "                    \"S3Uri\": input_uri,\n",
    "                    \"S3DataDistributionType\": \"FullyReplicated\",\n",
    "                }\n",
    "            },\n",
    "            \"CompressionType\": \"None\",\n",
    "            \"RecordWrapperType\": \"None\",\n",
    "        }\n",
    "    ]\n",
    "}\n",
    "\n",
    "\n",
    "sagemaker = boto3.client(\"sagemaker\")\n",
    "\n",
    "sagemaker.create_training_job(**create_training_params)\n"
   ]
  },
  {
   "cell_type": "code",
   "execution_count": null,
   "metadata": {
    "tags": []
   },
   "outputs": [],
   "source": [
    "job_name='sm-tr-job-20230110-002816'\n",
    "status = sagemaker.describe_training_job(TrainingJobName=job_name)[\"TrainingJobStatus\"]\n",
    "print(status)"
   ]
  },
  {
   "cell_type": "code",
   "execution_count": null,
   "metadata": {},
   "outputs": [],
   "source": [
    "## Create processing job Lambda\n",
    "import os\n",
    "import json\n",
    "import boto3\n",
    "import time\n",
    "\n",
    "from typing import Optional\n",
    "\n",
    "\n",
    "sm = boto3.client('sagemaker')\n",
    "\n",
    "\n",
    "def lambda_handler(event, context):\n",
    "\n",
    "    # Get parameters\n",
    "    input_uri = event['S3Input']\n",
    "    ouput_uri = event['S3Output']\n",
    "    image_uri = event['ImageUri']\n",
    "    role = event['RoleArn']\n",
    "    instance_type = event['InstanceType']\n",
    "    volume_size = event['VolumeSizeInGB']\n",
    "    max_runtime = event.get('MaxRuntimeInSeconds', 3600)  # Default: 1h\n",
    "    container_arguments = event.get('ContainerArguments', None) # Optional\n",
    "    entrypoint = event.get('EntryPoint', None) #optional \n",
    "\n",
    "    timestamp = time.strftime('%Y%m%d-%H%M%S')\n",
    "    job_name = f'sagemaker-job-{timestamp}' \n",
    "\n",
    "    # Define inputs/outputs\n",
    "\n",
    "    create_processing_params = {\n",
    "        \"ProcessingInputs\": [\n",
    "                {\n",
    "                    'InputName': 'input_data',\n",
    "                    'S3Input': {\n",
    "                        'S3Uri': input_uri,\n",
    "                        'LocalPath': '/opt/ml/processing/input',\n",
    "                        'S3DataType': 'S3Prefix',\n",
    "                        'S3InputMode': 'File'\n",
    "                    }\n",
    "                }\n",
    "        ],\n",
    "        \"ProcessingOutputConfig\": {\n",
    "            'Outputs': [\n",
    "                {\n",
    "                    'OutputName': 'output_data',\n",
    "                    'S3Output': {\n",
    "                        'S3Uri': ouput_uri,\n",
    "                        'LocalPath': '/opt/ml/processing/output',\n",
    "                        'S3UploadMode': 'EndOfJob'\n",
    "                    }\n",
    "                }\n",
    "            ]\n",
    "        },\n",
    "        \"ProcessingJobName\": job_name,\n",
    "        \"ProcessingResources\": {\n",
    "            'ClusterConfig': {\n",
    "                'InstanceCount': 1,\n",
    "                'InstanceType': instance_type,\n",
    "                'VolumeSizeInGB': volume_size\n",
    "            }\n",
    "        },\n",
    "        \"StoppingCondition\": {\n",
    "            'MaxRuntimeInSeconds': max_runtime\n",
    "        },\n",
    "        \"AppSpecification\": {\n",
    "            'ImageUri': image_uri,\n",
    "            'ContainerEntrypoint': ['python', entrypoint]\n",
    "        },\n",
    "        \"RoleArn\": role\n",
    "    }\n",
    "    \n",
    "    # Create processing job and return job ARN\n",
    "    sm.create_processing_job(**create_processing_params)\n",
    "\n",
    "    return {\n",
    "        'JobName': job_name\n",
    "    }"
   ]
  },
  {
   "cell_type": "code",
   "execution_count": null,
   "metadata": {},
   "outputs": [],
   "source": [
    "import boto3\n",
    "\n",
    "sm = boto3.client('sagemaker')\n",
    "\n",
    "def lambda_handler(event, context):\n",
    "\n",
    "    job_name = event['JobName']\n",
    "\n",
    "    response = sm.describe_processing_job(\n",
    "        ProcessingJobName=job_name\n",
    "    )\n",
    "    job_status = response[\"ProcessingJobStatus\"]\n",
    "    \n",
    "    return {\n",
    "        'ProcessingJobStatus': job_status\n",
    "    }"
   ]
  },
  {
   "cell_type": "code",
   "execution_count": null,
   "metadata": {
    "tags": []
   },
   "outputs": [],
   "source": [
    "#Install requirements locally\n",
    "!{sys.executable} -m pip install -r src/requirements.txt"
   ]
  },
  {
   "cell_type": "code",
   "execution_count": null,
   "metadata": {
    "tags": []
   },
   "outputs": [],
   "source": [
    "#Test locally\n",
    "!python /root/Blog_LegacyCode_MLOps/Template/InferenceContainer/src/predict.py local /root/Blog_LegacyCode_MLOps/Template/data/"
   ]
  }
 ],
 "metadata": {
  "instance_type": "ml.t3.medium",
  "kernelspec": {
   "display_name": "Python 3 (Data Science)",
   "language": "python",
   "name": "python3__SAGEMAKER_INTERNAL__arn:aws:sagemaker:us-east-1:081325390199:image/datascience-1.0"
  },
  "language_info": {
   "codemirror_mode": {
    "name": "ipython",
    "version": 3
   },
   "file_extension": ".py",
   "mimetype": "text/x-python",
   "name": "python",
   "nbconvert_exporter": "python",
   "pygments_lexer": "ipython3",
   "version": "3.7.10"
  }
 },
 "nbformat": 4,
 "nbformat_minor": 4
}
