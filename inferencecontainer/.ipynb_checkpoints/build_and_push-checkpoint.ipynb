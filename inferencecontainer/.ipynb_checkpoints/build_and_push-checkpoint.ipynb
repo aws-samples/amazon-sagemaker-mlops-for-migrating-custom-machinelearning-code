{
 "cells": [
  {
   "cell_type": "code",
   "execution_count": null,
   "metadata": {
    "scrolled": true,
    "tags": []
   },
   "outputs": [],
   "source": [
    "#Install sagemaker_studio_image_build utility\n",
    "import sys\n",
    "\n",
    "!{sys.executable} -m pip install sagemaker_studio_image_build"
   ]
  },
  {
   "cell_type": "code",
   "execution_count": null,
   "metadata": {
    "tags": []
   },
   "outputs": [],
   "source": [
    "!cat Dockerfile"
   ]
  },
  {
   "cell_type": "code",
   "execution_count": null,
   "metadata": {
    "scrolled": true,
    "tags": []
   },
   "outputs": [],
   "source": [
    "%%sh\n",
    "\n",
    "sm-docker build . --repository legacycode:1.0"
   ]
  },
  {
   "cell_type": "code",
   "execution_count": null,
   "metadata": {
    "tags": []
   },
   "outputs": [],
   "source": [
    "from sagemaker import get_execution_role\n",
    "role = get_execution_role()\n",
    "print(role)"
   ]
  },
  {
   "cell_type": "code",
   "execution_count": null,
   "metadata": {
    "tags": []
   },
   "outputs": [],
   "source": [
    "from sagemaker import image_uris\n",
    "image_uris.retrieve(framework='sklearn',region='us-east-1',version='0.23-1',image_scope='training')"
   ]
  },
  {
   "cell_type": "code",
   "execution_count": null,
   "metadata": {
    "tags": []
   },
   "outputs": [],
   "source": [
    "## Create pre-processing job in script mode job using the pre-built sci-kit learn container\n",
    "import os\n",
    "import json\n",
    "import boto3\n",
    "import time\n",
    "from sagemaker import get_execution_role\n",
    "\n",
    "sm = boto3.client('sagemaker')\n",
    "\n",
    "# Get parameters\n",
    "input_uri = \"s3://sagemaker-us-east-1-111111111111/legacycode/data/preproc/input/\"\n",
    "ouput_uri = \"s3://sagemaker-us-east-1-111111111111/legacycode/data/predict/input/\"\n",
    "code_uri = \"s3://sagemaker-us-east-1-111111111111/legacycode/scripts/\"\n",
    "image_uri = \"683313688378.dkr.ecr.us-east-1.amazonaws.com/sagemaker-scikit-learn:0.23-1-cpu-py3\"\n",
    "role = get_execution_role()\n",
    "instance_type = \"ml.m5.xlarge\"\n",
    "volume_size = 20\n",
    "max_runtime = 3600  # Default: 1h\n",
    "\n",
    "timestamp = time.strftime('%Y%m%d-%H%M%S')\n",
    "job_name = f'sm-job-{timestamp}' \n",
    "\n",
    "# Define inputs/outputs\n",
    "\n",
    "create_processing_params = {\n",
    "    \"ProcessingInputs\": [\n",
    "            {\n",
    "                'InputName': 'input_data',\n",
    "                'S3Input': {\n",
    "                    'S3Uri': input_uri,\n",
    "                    'LocalPath': '/opt/ml/processing/input/data/',\n",
    "                    'S3DataType': 'S3Prefix',\n",
    "                    'S3InputMode': 'File'\n",
    "                }\n",
    "            },\n",
    "            {\n",
    "                'InputName': 'scripts',\n",
    "                'S3Input': {\n",
    "                    'S3Uri': code_uri,\n",
    "                    'LocalPath': '/opt/ml/processing/input/scripts/',\n",
    "                    'S3DataType': 'S3Prefix',\n",
    "                    'S3InputMode': 'File'\n",
    "                }\n",
    "            }\n",
    "    ],\n",
    "    \"ProcessingOutputConfig\": {\n",
    "        'Outputs': [\n",
    "            {\n",
    "                'OutputName': 'output_data',\n",
    "                'S3Output': {\n",
    "                    'S3Uri': ouput_uri,\n",
    "                    'LocalPath': '/opt/ml/processing/output',\n",
    "                    'S3UploadMode': 'EndOfJob'\n",
    "                }\n",
    "            }\n",
    "        ]\n",
    "    },\n",
    "    \"ProcessingJobName\": job_name,\n",
    "    \"ProcessingResources\": {\n",
    "        'ClusterConfig': {\n",
    "            'InstanceCount': 1,\n",
    "            'InstanceType': instance_type,\n",
    "            'VolumeSizeInGB': volume_size\n",
    "        }\n",
    "    },\n",
    "    \"StoppingCondition\": {\n",
    "        'MaxRuntimeInSeconds': max_runtime\n",
    "    },\n",
    "    \"AppSpecification\": {\n",
    "        'ImageUri': image_uri,\n",
    "        'ContainerEntrypoint': ['python',\"/opt/ml/processing/input/scripts/preprocess.py\"]\n",
    "    },\n",
    "    \"RoleArn\": role\n",
    "}\n",
    "# Create processing job and return job ARN\n",
    "sm.create_processing_job(**create_processing_params)"
   ]
  },
  {
   "cell_type": "code",
   "execution_count": null,
   "metadata": {
    "tags": []
   },
   "outputs": [],
   "source": [
    "## Create processing job using the customer container built above\n",
    "import os\n",
    "import json\n",
    "import boto3\n",
    "import time\n",
    "from sagemaker import get_execution_role\n",
    "\n",
    "sm = boto3.client('sagemaker')\n",
    "\n",
    "# Get parameters\n",
    "input_uri = \"s3://sagemaker-us-east-1-111111111111/legacycode/data/predict/input/\"\n",
    "ouput_uri = \"s3://sagemaker-us-east-1-111111111111/legacycode/data/predict/output/\"\n",
    "image_uri = \"598227499323.dkr.ecr.us-east-1.amazonaws.com/legacycode:1.0\"\n",
    "role = get_execution_role()\n",
    "instance_type = \"ml.m5.xlarge\"\n",
    "volume_size = 20\n",
    "max_runtime = 3600  # Default: 1h\n",
    "entrypoint = \"/opt/ml/code/predict.py\"\n",
    "\n",
    "timestamp = time.strftime('%Y%m%d-%H%M%S')\n",
    "job_name = f'sm-job-{timestamp}' \n",
    "\n",
    "# Define inputs/outputs\n",
    "\n",
    "create_processing_params = {\n",
    "    \"ProcessingInputs\": [\n",
    "            {\n",
    "                'InputName': 'input_data',\n",
    "                'S3Input': {\n",
    "                    'S3Uri': input_uri,\n",
    "                    'LocalPath': '/opt/ml/processing/input',\n",
    "                    'S3DataType': 'S3Prefix',\n",
    "                    'S3InputMode': 'File'\n",
    "                }\n",
    "            }\n",
    "    ],\n",
    "    \"ProcessingOutputConfig\": {\n",
    "        'Outputs': [\n",
    "            {\n",
    "                'OutputName': 'output_data',\n",
    "                'S3Output': {\n",
    "                    'S3Uri': ouput_uri,\n",
    "                    'LocalPath': '/opt/ml/processing/output',\n",
    "                    'S3UploadMode': 'EndOfJob'\n",
    "                }\n",
    "            }\n",
    "        ]\n",
    "    },\n",
    "    \"ProcessingJobName\": job_name,\n",
    "    \"ProcessingResources\": {\n",
    "        'ClusterConfig': {\n",
    "            'InstanceCount': 1,\n",
    "            'InstanceType': instance_type,\n",
    "            'VolumeSizeInGB': volume_size\n",
    "        }\n",
    "    },\n",
    "    \"StoppingCondition\": {\n",
    "        'MaxRuntimeInSeconds': max_runtime\n",
    "    },\n",
    "    \"AppSpecification\": {\n",
    "        'ImageUri': image_uri,\n",
    "        'ContainerEntrypoint': ['python', entrypoint]\n",
    "    },\n",
    "    \"RoleArn\": role\n",
    "}\n",
    "# Create processing job and return job ARN\n",
    "sm.create_processing_job(**create_processing_params)"
   ]
  },
  {
   "cell_type": "code",
   "execution_count": null,
   "metadata": {},
   "outputs": [],
   "source": [
    "## Create post-processing job in script mode job using the pre-built sci-kit learn container\n",
    "import os\n",
    "import json\n",
    "import boto3\n",
    "import time\n",
    "from sagemaker import get_execution_role\n",
    "\n",
    "sm = boto3.client('sagemaker')\n",
    "\n",
    "# Get parameters\n",
    "input_uri = \"s3://sagemaker-us-east-1-111111111111/legacycode/data/predict/output/\"\n",
    "ouput_uri = \"s3://sagemaker-us-east-1-111111111111/legacycode/data/preproc/output/\"\n",
    "code_uri = \"s3://sagemaker-us-east-1-111111111111/legacycode/scripts/\"\n",
    "image_uri = \"683313688378.dkr.ecr.us-east-1.amazonaws.com/sagemaker-scikit-learn:0.23-1-cpu-py3\"\n",
    "role = get_execution_role()\n",
    "instance_type = \"ml.m5.xlarge\"\n",
    "volume_size = 20\n",
    "max_runtime = 3600  # Default: 1h\n",
    "\n",
    "timestamp = time.strftime('%Y%m%d-%H%M%S')\n",
    "job_name = f'sm-job-{timestamp}' \n",
    "\n",
    "# Define inputs/outputs\n",
    "\n",
    "create_processing_params = {\n",
    "    \"ProcessingInputs\": [\n",
    "            {\n",
    "                'InputName': 'input_data',\n",
    "                'S3Input': {\n",
    "                    'S3Uri': input_uri,\n",
    "                    'LocalPath': '/opt/ml/processing/input/data/',\n",
    "                    'S3DataType': 'S3Prefix',\n",
    "                    'S3InputMode': 'File'\n",
    "                }\n",
    "            },\n",
    "            {\n",
    "                'InputName': 'scripts',\n",
    "                'S3Input': {\n",
    "                    'S3Uri': code_uri,\n",
    "                    'LocalPath': '/opt/ml/processing/input/scripts/',\n",
    "                    'S3DataType': 'S3Prefix',\n",
    "                    'S3InputMode': 'File'\n",
    "                }\n",
    "            }\n",
    "    ],\n",
    "    \"ProcessingOutputConfig\": {\n",
    "        'Outputs': [\n",
    "            {\n",
    "                'OutputName': 'output_data',\n",
    "                'S3Output': {\n",
    "                    'S3Uri': ouput_uri,\n",
    "                    'LocalPath': '/opt/ml/processing/output',\n",
    "                    'S3UploadMode': 'EndOfJob'\n",
    "                }\n",
    "            }\n",
    "        ]\n",
    "    },\n",
    "    \"ProcessingJobName\": job_name,\n",
    "    \"ProcessingResources\": {\n",
    "        'ClusterConfig': {\n",
    "            'InstanceCount': 1,\n",
    "            'InstanceType': instance_type,\n",
    "            'VolumeSizeInGB': volume_size\n",
    "        }\n",
    "    },\n",
    "    \"StoppingCondition\": {\n",
    "        'MaxRuntimeInSeconds': max_runtime\n",
    "    },\n",
    "    \"AppSpecification\": {\n",
    "        'ImageUri': image_uri,\n",
    "        'ContainerEntrypoint': ['python'],\n",
    "        \"ContainerArguments\": [\n",
    "          \"/opt/ml/processing/input/scripts/preprocess.py\"\n",
    "        ]\n",
    "    },\n",
    "    \"RoleArn\": role\n",
    "}\n",
    "# Create processing job and return job ARN\n",
    "sm.create_processing_job(**create_processing_params)"
   ]
  },
  {
   "cell_type": "code",
   "execution_count": null,
   "metadata": {
    "tags": []
   },
   "outputs": [],
   "source": [
    "#Check processing job status\n",
    "job_name = 'sm-job-20230208-025115'\n",
    "\n",
    "response = sm.describe_processing_job(\n",
    "    ProcessingJobName=job_name\n",
    ")\n",
    "job_status = response[\"ProcessingJobStatus\"]\n",
    "\n",
    "print(job_status)"
   ]
  },
  {
   "cell_type": "code",
   "execution_count": null,
   "metadata": {
    "tags": []
   },
   "outputs": [],
   "source": [
    "#Install requirements locally\n",
    "!{sys.executable} -m pip install -r src/requirements.txt"
   ]
  },
  {
   "cell_type": "code",
   "execution_count": null,
   "metadata": {
    "tags": []
   },
   "outputs": [],
   "source": [
    "#Test locally\n",
    "!python /root/legacyCode_mlOps/InferenceContainer/src/predict.py local /root/data/"
   ]
  }
 ],
 "metadata": {
  "instance_type": "ml.t3.medium",
  "kernelspec": {
   "display_name": "Python 3 (Data Science)",
   "language": "python",
   "name": "python3__SAGEMAKER_INTERNAL__arn:aws:sagemaker:us-east-1:081325390199:image/datascience-1.0"
  },
  "language_info": {
   "codemirror_mode": {
    "name": "ipython",
    "version": 3
   },
   "file_extension": ".py",
   "mimetype": "text/x-python",
   "name": "python",
   "nbconvert_exporter": "python",
   "pygments_lexer": "ipython3",
   "version": "3.7.10"
  }
 },
 "nbformat": 4,
 "nbformat_minor": 4
}
